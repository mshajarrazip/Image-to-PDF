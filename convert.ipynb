{
 "cells": [
  {
   "cell_type": "code",
   "execution_count": 4,
   "metadata": {},
   "outputs": [],
   "source": [
    "import os\n",
    "from PIL import Image"
   ]
  },
  {
   "cell_type": "code",
   "execution_count": 2,
   "metadata": {},
   "outputs": [],
   "source": [
    "# convert jpeg int opdf\n",
    "\n",
    "fpath = \"\"\n",
    "image = Image.open(fpath)\n",
    "pdf_path = \"output/Employees Service Agreement.pdf\"\n",
    "image.save(\n",
    "    pdf_path, \"PDF\", resolution=360.0, save_all=True\n",
    "    )"
   ]
  },
  {
   "cell_type": "code",
   "execution_count": 4,
   "metadata": {},
   "outputs": [],
   "source": [
    "# combine pdfs in to one\n",
    "\n",
    "from PyPDF2 import PdfMerger\n",
    "\n",
    "pdfs = [\n",
    "\n",
    "]\n",
    "merger = PdfMerger()\n",
    "\n",
    "for pdf in pdfs:\n",
    "    merger.append(pdf)\n",
    "\n",
    "merger.write(\"output/Employee Service Agreement (Stamped).pdf\")\n",
    "merger.close()"
   ]
  },
  {
   "cell_type": "code",
   "execution_count": 13,
   "metadata": {},
   "outputs": [
    {
     "name": "stdout",
     "output_type": "stream",
     "text": [
      "Successfully converted PDF to images\n"
     ]
    }
   ],
   "source": [
    "# pdf2image is only available from PIP\n",
    "from pdf2image import convert_from_path\n",
    "\n",
    "pdf_images = convert_from_path(\n",
    "    \"output/949235Folio-A_209309.pdf\"\n",
    ")\n",
    "\n",
    "for idx in range(len(pdf_images)):\n",
    "    opath = os.path.join(\"output\", f\"pdf_page_{idx + 1}.png\")\n",
    "    pdf_images[idx].save(opath, \"PNG\")\n",
    "\n",
    "print(\"Successfully converted PDF to images\")"
   ]
  }
 ],
 "metadata": {
  "kernelspec": {
   "display_name": "cerdas-generic",
   "language": "python",
   "name": "python3"
  },
  "language_info": {
   "codemirror_mode": {
    "name": "ipython",
    "version": 3
   },
   "file_extension": ".py",
   "mimetype": "text/x-python",
   "name": "python",
   "nbconvert_exporter": "python",
   "pygments_lexer": "ipython3",
   "version": "3.9.12"
  }
 },
 "nbformat": 4,
 "nbformat_minor": 2
}
